{
 "cells": [
  {
   "cell_type": "code",
   "execution_count": 68,
   "id": "bb6981bc",
   "metadata": {},
   "outputs": [],
   "source": [
    "import time\n",
    "from selenium import webdriver\n",
    "from selenium.webdriver.common.keys import Keys\n",
    "import random\n"
   ]
  },
  {
   "cell_type": "code",
   "execution_count": 69,
   "id": "8dc1346c",
   "metadata": {},
   "outputs": [
    {
     "name": "stderr",
     "output_type": "stream",
     "text": [
      "C:\\Users\\moica\\AppData\\Local\\Temp\\ipykernel_4408\\2878782426.py:1: DeprecationWarning: executable_path has been deprecated, please pass in a Service object\n",
      "  driver = webdriver.Chrome(executable_path=r\"./chromedriver.exe\")\n"
     ]
    }
   ],
   "source": [
    "driver = webdriver.Chrome(executable_path=r\"./chromedriver.exe\")  \n",
    "time.sleep(random.randint(2, 4))\n",
    "driver.get('https://www.instagram.com')"
   ]
  },
  {
   "cell_type": "code",
   "execution_count": 70,
   "id": "25568be5",
   "metadata": {},
   "outputs": [
    {
     "name": "stderr",
     "output_type": "stream",
     "text": [
      "C:\\Users\\moica\\AppData\\Local\\Temp\\ipykernel_4408\\395521618.py:1: DeprecationWarning: find_element_by_xpath is deprecated. Please use find_element(by=By.XPATH, value=xpath) instead\n",
      "  user_element = driver.find_element_by_xpath(\"//input[@name='username']\")\n"
     ]
    }
   ],
   "source": [
    "user_element = driver.find_element_by_xpath(\"//input[@name='username']\")\n",
    "user_element.clear()\n",
    "time.sleep(random.randint(1, 3))\n",
    "user_element.send_keys('username')"
   ]
  },
  {
   "cell_type": "code",
   "execution_count": 71,
   "id": "2d4a07f9",
   "metadata": {},
   "outputs": [
    {
     "name": "stderr",
     "output_type": "stream",
     "text": [
      "C:\\Users\\moica\\AppData\\Local\\Temp\\ipykernel_4408\\1570208504.py:1: DeprecationWarning: find_element_by_xpath is deprecated. Please use find_element(by=By.XPATH, value=xpath) instead\n",
      "  password_element = driver.find_element_by_xpath(\"//input[@name='password']\")\n"
     ]
    }
   ],
   "source": [
    "password_element = driver.find_element_by_xpath(\"//input[@name='password']\")\n",
    "password_element.clear()\n",
    "password_element.send_keys('password')\n",
    "time.sleep(random.randint(1, 3))"
   ]
  },
  {
   "cell_type": "code",
   "execution_count": 72,
   "id": "493ca8d5",
   "metadata": {},
   "outputs": [],
   "source": [
    "password_element.send_keys(Keys.RETURN)"
   ]
  },
  {
   "cell_type": "code",
   "execution_count": 73,
   "id": "c47c9bdf",
   "metadata": {},
   "outputs": [],
   "source": [
    "driver.get('https://www.instagram.com/reel/CdTpc5MDV-j/')"
   ]
  },
  {
   "cell_type": "code",
   "execution_count": 74,
   "id": "52490311",
   "metadata": {},
   "outputs": [
    {
     "name": "stderr",
     "output_type": "stream",
     "text": [
      "C:\\Users\\moica\\AppData\\Local\\Temp\\ipykernel_4408\\3643509537.py:1: DeprecationWarning: find_element_by_xpath is deprecated. Please use find_element(by=By.XPATH, value=xpath) instead\n",
      "  likes= driver.find_element_by_xpath('//div[@class=\"_ab8w  _ab94 _ab99 _ab9f _ab9k _ab9o _abcm\"]/div/div/a')\n"
     ]
    }
   ],
   "source": [
    "likes= driver.find_element_by_xpath('//div[@class=\"_ab8w  _ab94 _ab99 _ab9f _ab9k _ab9o _abcm\"]/div/div/a')"
   ]
  },
  {
   "cell_type": "code",
   "execution_count": 75,
   "id": "1519360e",
   "metadata": {},
   "outputs": [],
   "source": [
    "driver.get(likes.get_attribute(\"href\"))"
   ]
  },
  {
   "cell_type": "code",
   "execution_count": 76,
   "id": "3d8a0a9a",
   "metadata": {},
   "outputs": [
    {
     "name": "stderr",
     "output_type": "stream",
     "text": [
      "C:\\Users\\moica\\AppData\\Local\\Temp\\ipykernel_4408\\3687415196.py:1: DeprecationWarning: find_elements_by_xpath is deprecated. Please use find_elements(by=By.XPATH, value=xpath) instead\n",
      "  likers=driver.find_elements_by_xpath('//div[@class=\"_ab8w  _ab94 _ab97 _ab9f _ab9k _ab9p _abcm\"]')\n"
     ]
    }
   ],
   "source": [
    "likers=driver.find_elements_by_xpath('//div[@class=\"_ab8w  _ab94 _ab97 _ab9f _ab9k _ab9p _abcm\"]')"
   ]
  },
  {
   "cell_type": "code",
   "execution_count": 77,
   "id": "975dbb63",
   "metadata": {},
   "outputs": [
    {
     "name": "stdout",
     "output_type": "stream",
     "text": [
      "carelizcharris\n",
      "lorainemartineztorres\n",
      "lizcaicedoz_\n",
      "auxy23\n",
      "wguerrero18\n",
      "matti_1967\n",
      "jaicle__\n",
      "elmoise_\n",
      "yulianamurieljimenez\n"
     ]
    }
   ],
   "source": [
    "for i in likers:\n",
    "    print(i.text)\n",
    "    "
   ]
  },
  {
   "cell_type": "code",
   "execution_count": 91,
   "id": "89b9ee79",
   "metadata": {},
   "outputs": [],
   "source": [
    "driver.get('https://www.instagram.com/direct/new/')"
   ]
  },
  {
   "cell_type": "code",
   "execution_count": 92,
   "id": "a3aa97d9",
   "metadata": {},
   "outputs": [
    {
     "name": "stderr",
     "output_type": "stream",
     "text": [
      "C:\\Users\\moica\\AppData\\Local\\Temp\\ipykernel_4408\\2382770443.py:1: DeprecationWarning: find_element_by_xpath is deprecated. Please use find_element(by=By.XPATH, value=xpath) instead\n",
      "  find_user=driver.find_element_by_xpath('//div[@class=\" _aa2u\"]/input')\n"
     ]
    }
   ],
   "source": [
    "find_user=driver.find_element_by_xpath('//div[@class=\" _aa2u\"]/input')\n",
    "find_user.send_keys('elmoise_')\n",
    "time.sleep(3)"
   ]
  },
  {
   "cell_type": "code",
   "execution_count": 93,
   "id": "bd139f14",
   "metadata": {},
   "outputs": [
    {
     "name": "stderr",
     "output_type": "stream",
     "text": [
      "C:\\Users\\moica\\AppData\\Local\\Temp\\ipykernel_4408\\805198699.py:1: DeprecationWarning: find_elements_by_xpath is deprecated. Please use find_elements(by=By.XPATH, value=xpath) instead\n",
      "  users=driver.find_elements_by_xpath('//div[@class=\"_abm4\"]/div')\n"
     ]
    }
   ],
   "source": [
    "users=driver.find_elements_by_xpath('//div[@class=\"_abm4\"]/div')"
   ]
  },
  {
   "cell_type": "code",
   "execution_count": 94,
   "id": "43812d2b",
   "metadata": {},
   "outputs": [],
   "source": [
    "users[0].click()"
   ]
  },
  {
   "cell_type": "code",
   "execution_count": 95,
   "id": "57ce71c5",
   "metadata": {},
   "outputs": [
    {
     "data": {
      "text/plain": [
       "<bound method WebElement.click of <selenium.webdriver.remote.webelement.WebElement (session=\"6c9a587a2dfd1539aed9c3b30bdbb305\", element=\"7408ff91-632f-4640-acda-e609341269b3\")>>"
      ]
     },
     "execution_count": 95,
     "metadata": {},
     "output_type": "execute_result"
    }
   ],
   "source": [
    "users[0].click"
   ]
  },
  {
   "cell_type": "code",
   "execution_count": 96,
   "id": "3f047a23",
   "metadata": {},
   "outputs": [
    {
     "name": "stderr",
     "output_type": "stream",
     "text": [
      "C:\\Users\\moica\\AppData\\Local\\Temp\\ipykernel_4408\\3063604739.py:1: DeprecationWarning: find_element_by_xpath is deprecated. Please use find_element(by=By.XPATH, value=xpath) instead\n",
      "  button=driver.find_element_by_xpath('//button[@class=\"_acan _acao _acas _acav _aj1-\"]').click()\n"
     ]
    }
   ],
   "source": [
    "button=driver.find_element_by_xpath('//button[@class=\"_acan _acao _acas _acav _aj1-\"]').click()"
   ]
  },
  {
   "cell_type": "code",
   "execution_count": 97,
   "id": "1b1f9bfe",
   "metadata": {},
   "outputs": [
    {
     "name": "stderr",
     "output_type": "stream",
     "text": [
      "C:\\Users\\moica\\AppData\\Local\\Temp\\ipykernel_4408\\3879810826.py:1: DeprecationWarning: find_element_by_xpath is deprecated. Please use find_element(by=By.XPATH, value=xpath) instead\n",
      "  message=driver.find_element_by_xpath('//div[@class=\"_acrb\"]/div/textarea')\n"
     ]
    }
   ],
   "source": [
    "message=driver.find_element_by_xpath('//div[@class=\"_acrb\"]/div/textarea')"
   ]
  },
  {
   "cell_type": "code",
   "execution_count": 101,
   "id": "19982715",
   "metadata": {},
   "outputs": [],
   "source": [
    "message.send_keys('elmoise_')"
   ]
  },
  {
   "cell_type": "code",
   "execution_count": 102,
   "id": "344870a5",
   "metadata": {},
   "outputs": [
    {
     "name": "stderr",
     "output_type": "stream",
     "text": [
      "C:\\Users\\moica\\AppData\\Local\\Temp\\ipykernel_4408\\1486638785.py:1: DeprecationWarning: find_element_by_xpath is deprecated. Please use find_element(by=By.XPATH, value=xpath) instead\n",
      "  send_message=driver.find_element_by_xpath('//div[@class=\"_ab8w  _ab94 _ab99 _ab9f _ab9m _ab9p  _abbi _abcm\"]/button')\n"
     ]
    }
   ],
   "source": [
    "send_message=driver.find_element_by_xpath('//div[@class=\"_ab8w  _ab94 _ab99 _ab9f _ab9m _ab9p  _abbi _abcm\"]/button')"
   ]
  },
  {
   "cell_type": "code",
   "execution_count": 103,
   "id": "4a936f94",
   "metadata": {},
   "outputs": [],
   "source": [
    "send_message.click()"
   ]
  },
  {
   "cell_type": "code",
   "execution_count": null,
   "id": "65acb8c1",
   "metadata": {},
   "outputs": [],
   "source": []
  }
 ],
 "metadata": {
  "kernelspec": {
   "display_name": "Python 3 (ipykernel)",
   "language": "python",
   "name": "python3"
  },
  "language_info": {
   "codemirror_mode": {
    "name": "ipython",
    "version": 3
   },
   "file_extension": ".py",
   "mimetype": "text/x-python",
   "name": "python",
   "nbconvert_exporter": "python",
   "pygments_lexer": "ipython3",
   "version": "3.10.2"
  }
 },
 "nbformat": 4,
 "nbformat_minor": 5
}
